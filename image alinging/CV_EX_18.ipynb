{
 "cells": [
  {
   "cell_type": "code",
   "execution_count": 1,
   "id": "1a5d1dc4",
   "metadata": {},
   "outputs": [],
   "source": [
    "import cv2\n",
    "import numpy as np\n",
    "\n",
    "# Read Image to be aligned\n",
    "img = cv2.imread('image.jpeg')\n",
    "# Reference Reference image or Ideal image\n",
    "Ref = cv2.imread('reference.jpeg')"
   ]
  },
  {
   "cell_type": "code",
   "execution_count": 2,
   "id": "2da1457d",
   "metadata": {},
   "outputs": [],
   "source": [
    "cv2.imshow(\"Result\",img)"
   ]
  },
  {
   "cell_type": "code",
   "execution_count": 3,
   "id": "22046539",
   "metadata": {},
   "outputs": [],
   "source": [
    "# Convert to grayscale.\n",
    "imgTest_grey = cv2.cvtColor(img, cv2.COLOR_BGR2GRAY)\n",
    "imgRef_grey = cv2.cvtColor(Ref, cv2.COLOR_BGR2GRAY)\n",
    "height, width = imgRef_grey.shape"
   ]
  },
  {
   "cell_type": "code",
   "execution_count": 4,
   "id": "ac6b77e2",
   "metadata": {},
   "outputs": [
    {
     "data": {
      "text/plain": [
       "-1"
      ]
     },
     "execution_count": 4,
     "metadata": {},
     "output_type": "execute_result"
    }
   ],
   "source": [
    "# Configure ORB feature detector Algorithm with 1000 features.\n",
    "orb_detector = cv2.ORB_create(1000)\n",
    " \n",
    "# Extract key points and descriptors for both images\n",
    "keyPoint1, des1 = orb_detector.detectAndCompute(imgTest_grey, None)\n",
    "keyPoint2, des2 = orb_detector.detectAndCompute(imgRef_grey, None)\n",
    " \n",
    "# Display keypoints for reference image in green color\n",
    "imgKp_Ref = cv2.drawKeypoints(Ref, keyPoint1, 0, (0,222,0), None)\n",
    "imgKp_Ref = cv2.resize(imgKp_Ref, (width//2, height//2))\n",
    " \n",
    "cv2.imshow('Key Points', imgKp_Ref)\n",
    "cv2.waitKey(0)"
   ]
  },
  {
   "cell_type": "code",
   "execution_count": null,
   "id": "51a5d51e",
   "metadata": {},
   "outputs": [],
   "source": []
  },
  {
   "cell_type": "code",
   "execution_count": null,
   "id": "23c7344d",
   "metadata": {},
   "outputs": [],
   "source": []
  }
 ],
 "metadata": {
  "kernelspec": {
   "display_name": "Python 3 (ipykernel)",
   "language": "python",
   "name": "python3"
  },
  "language_info": {
   "codemirror_mode": {
    "name": "ipython",
    "version": 3
   },
   "file_extension": ".py",
   "mimetype": "text/x-python",
   "name": "python",
   "nbconvert_exporter": "python",
   "pygments_lexer": "ipython3",
   "version": "3.11.3"
  }
 },
 "nbformat": 4,
 "nbformat_minor": 5
}
